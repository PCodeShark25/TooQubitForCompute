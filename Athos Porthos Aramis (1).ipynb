{
 "cells": [
  {
   "cell_type": "code",
   "execution_count": 1,
   "id": "ae58f7f5-9084-4bed-8977-5863f236ad27",
   "metadata": {},
   "outputs": [],
   "source": [
    "import qiskit_metal "
   ]
  },
  {
   "cell_type": "code",
   "execution_count": 2,
   "id": "bfed12f9-d02d-490c-83d8-586590a03cf4",
   "metadata": {},
   "outputs": [],
   "source": [
    "from qiskit_metal import designs, draw, MetalGUI, Dict, open_docs\n",
    "from qiskit_metal.qlibrary.qubits.transmon_pocket import TransmonPocket\n",
    "from qiskit_metal.qlibrary.tlines.meandered import RouteMeander\n",
    "from qiskit_metal.qlibrary.tlines.straight_path import RouteStraight\n",
    "from qiskit_metal.qlibrary.tlines.framed_path import RouteFramed\n",
    "from qiskit_metal.qlibrary.tlines.mixed_path import RouteMixed\n",
    "from qiskit_metal.qlibrary.tlines.pathfinder import RoutePathfinder\n",
    "import numpy as np\n",
    "from collections import OrderedDict"
   ]
  },
  {
   "cell_type": "code",
   "execution_count": 3,
   "id": "50209288-9aeb-4048-8d37-57aee09d8182",
   "metadata": {},
   "outputs": [],
   "source": [
    "design = designs.DesignPlanar()\n",
    "gui = MetalGUI(design)"
   ]
  },
  {
   "cell_type": "code",
   "execution_count": 4,
   "id": "ec7460c7-c5c2-45e2-b4f1-898ba8cdfe25",
   "metadata": {},
   "outputs": [],
   "source": [
    "def guidraw(n=1, dlt=False, hlt=False):\n",
    "    if dlt:\n",
    "        gui.rebuild()\n",
    "        #gui.screenshot()\n",
    "    else:\n",
    "        gui.rebuild()\n",
    "        gui.autoscale()\n",
    "        if n==1:\n",
    "            gui.edit_component(['Q1'])\n",
    "        gui.zoom_on_components([f'Q{i}' for i in range(1, n+1)])\n",
    "        if hlt:\n",
    "            gui.highlight_components([f'Q{i}' for i in range(1, n+1)])\n",
    "        #gui.screenshot()"
   ]
  },
  {
   "cell_type": "code",
   "execution_count": 5,
   "id": "fbc68c04-1ae3-4371-ac4e-069ece368862",
   "metadata": {},
   "outputs": [],
   "source": [
    "def clean():\n",
    "    design.delete_all_components()"
   ]
  },
  {
   "cell_type": "code",
   "execution_count": 6,
   "id": "5eb9f6db-a513-41ad-bb08-c8cc4f636755",
   "metadata": {},
   "outputs": [],
   "source": [
    "def Three_Qubiteers(a='3 mm'):\n",
    "    design.overwrite_enabled = True\n",
    "    \n",
    "    options = Dict(\n",
    "        pad_width = '455 um',\n",
    "        pocket_height = '650um',\n",
    "        connection_pads= Dict(\n",
    "            a = Dict(loc_W= +1, loc_H= +1),\n",
    "            b = Dict(loc_W= -1, loc_H= +1),\n",
    "            #c = Dict(loc_W= +1, loc_H= -1),\n",
    "            #d = Dict(loc_W= -1, loc_H= -1),\n",
    "        )\n",
    "    )\n",
    "    s = int(a[0])\n",
    "    q1 = TransmonPocket(design, 'Q1', options=Dict(pos_x='+0.00mm', pos_y='+1.332mm', orientation = 180, **options))\n",
    "    q2 = TransmonPocket(design, 'Q2', options=Dict(pos_x=str(s/2) + 'mm', pos_y='-1.266mm', orientation = 60, **options))\n",
    "    q3 = TransmonPocket(design, 'Q3', options=Dict(pos_x=str(-s/2) + 'mm', pos_y='-1.266mm', orientation = -60,  **options))\n",
    "    \n",
    "    guidraw(n=3, hlt=False)"
   ]
  },
  {
   "cell_type": "code",
   "execution_count": 7,
   "id": "66ac51cd-dd15-4b9c-9e2b-c9b7028a449e",
   "metadata": {},
   "outputs": [],
   "source": [
    "clean()"
   ]
  },
  {
   "cell_type": "code",
   "execution_count": 8,
   "id": "8c80c26e-a727-48cc-9cc7-d6ec08b02a5f",
   "metadata": {},
   "outputs": [],
   "source": [
    "design.chips.main.size.size_x='5 mm'\n",
    "design.chips.main.size.size_y='5 mm'"
   ]
  },
  {
   "cell_type": "code",
   "execution_count": 9,
   "id": "544efeda-6559-4699-b928-c08a131856a5",
   "metadata": {},
   "outputs": [],
   "source": [
    "Three_Qubiteers()"
   ]
  },
  {
   "cell_type": "code",
   "execution_count": 10,
   "id": "427797ae-1f03-4ee8-8056-3397ca6cec0a",
   "metadata": {},
   "outputs": [],
   "source": [
    "def Print_RM_Options():\n",
    "    opt = RouteMeander.get_template_options(design)\n",
    "    for i in opt:\n",
    "        print(i, '-', opt[i])"
   ]
  },
  {
   "cell_type": "code",
   "execution_count": 11,
   "id": "38f089b3-0b29-4ab7-a2bc-1869e46960eb",
   "metadata": {},
   "outputs": [],
   "source": [
    "def Print_RS_Options():\n",
    "    opt = RouteStraight.get_template_options(design)\n",
    "    for i in opt:\n",
    "        print(i, '-', opt[i])"
   ]
  },
  {
   "cell_type": "code",
   "execution_count": 12,
   "id": "0036a8d7-7f3f-493a-86b2-0a2734bb7d65",
   "metadata": {},
   "outputs": [],
   "source": [
    "def Print_RMix_Options():\n",
    "    opt = RouteMixed.get_template_options(design)\n",
    "    for i in opt:\n",
    "        print(i, '-', opt[i])"
   ]
  },
  {
   "cell_type": "code",
   "execution_count": 13,
   "id": "a5b17ae8-c35e-4f77-98ae-dd525c8f1349",
   "metadata": {},
   "outputs": [
    {
     "name": "stdout",
     "output_type": "stream",
     "text": [
      "chip - main\n",
      "layer - 1\n",
      "pin_inputs - {'start_pin': {'component': '', 'pin': ''}, 'end_pin': {'component': '', 'pin': ''}}\n",
      "fillet - 0\n",
      "lead - {'start_straight': '0mm', 'end_straight': '0mm', 'start_jogged_extension': '', 'end_jogged_extension': ''}\n",
      "total_length - 7mm\n",
      "trace_width - cpw_width\n",
      "meander - {'spacing': '200um', 'asymmetry': '0um'}\n",
      "snap - true\n",
      "prevent_short_edges - true\n",
      "anchors - {}\n",
      "advanced - {'avoid_collision': 'true'}\n",
      "step_size - 0.25mm\n",
      "between_anchors - {}\n",
      "hfss_wire_bonds - False\n",
      "q3d_wire_bonds - False\n",
      "aedt_q3d_wire_bonds - False\n",
      "aedt_hfss_wire_bonds - False\n"
     ]
    }
   ],
   "source": [
    "#Print_RM_Options()\n",
    "Print_RMix_Options()"
   ]
  },
  {
   "cell_type": "code",
   "execution_count": 14,
   "id": "da18b69b-4c9b-4961-8f22-de425050191a",
   "metadata": {},
   "outputs": [],
   "source": [
    "ops = Dict(fillet='90um', layer=1)"
   ]
  },
  {
   "cell_type": "code",
   "execution_count": 15,
   "id": "f989d3ba-98bc-4466-91ff-520a6576c843",
   "metadata": {},
   "outputs": [],
   "source": [
    "options= Dict(\n",
    "    total_length = '9mm',\n",
    "    hfss_wire_bonds = True,\n",
    "    pin_inputs = Dict(\n",
    "        start_pin = Dict(\n",
    "            component = 'Q2',\n",
    "            pin = 'b'\n",
    "        ),\n",
    "        end_pin = Dict(\n",
    "            component = 'Q3',\n",
    "            pin = 'a'\n",
    "        )\n",
    "    ),\n",
    "    lead= Dict(\n",
    "        start_straight = '0.09mm',\n",
    "        end_straight = '0.09mm'\n",
    "    ),\n",
    "    meander = Dict(asymmetry='-0.0mm'),\n",
    "    **ops\n",
    ")\n",
    "\n",
    "try:\n",
    "    cpw3.delete()\n",
    "except NameError: pass\n",
    "\n",
    "cpw3 = RouteStraight(design, options=options)\n",
    "guidraw(n=3)"
   ]
  },
  {
   "cell_type": "code",
   "execution_count": 16,
   "id": "d4619a78-effb-4733-ba99-c3543bd08a6c",
   "metadata": {},
   "outputs": [],
   "source": [
    "anchors = OrderedDict()\n",
    "bw_anchors = OrderedDict()\n",
    "\n",
    "#for x in range(50, 100):\n",
    "#    y = -np.sqrt(3) * (x/100- 0.42) + 2.4\n",
    "#    anchors[x-50] = np.array([x/100, y])\n",
    "#    bw_anchors[x-50] = \"S\"\n",
    "#bw_anchors[100-50] = \"M\"\n",
    "\n",
    "anchors[0] = np.array([0.71, 1.9])\n",
    "#anchors[1] = np.array([1, np.sqrt(3)/2])\n",
    "bw_anchors[0] = \"M\"\n",
    "bw_anchors[1] = \"M\"\n",
    "\n",
    "\n",
    "options= Dict(\n",
    "    total_length = '19mm',\n",
    "    hfss_wire_bonds = True,\n",
    "    pin_inputs = Dict(\n",
    "        start_pin = Dict(\n",
    "            component = 'Q1',\n",
    "            pin = 'b'\n",
    "        ),\n",
    "        end_pin = Dict(\n",
    "            component = 'Q2',\n",
    "            pin = 'a'\n",
    "        )\n",
    "    ),\n",
    "    anchors = anchors,\n",
    "    between_anchors = bw_anchors,\n",
    "    advanced = Dict(avoid_collision = 'true'),\n",
    "    lead= Dict(\n",
    "        start_straight = '0.09mm',\n",
    "        end_straight = '0.09mm'\n",
    "    ),\n",
    "    meander = Dict(asymmetry='0.0mm'),\n",
    "    meander_angle= 60,\n",
    "    **ops\n",
    ")\n",
    "\n",
    "try:\n",
    "    cpw2.delete()\n",
    "except NameError: pass\n",
    "\n",
    "cpw2 = RouteStraight(design, options=options)\n",
    "guidraw(n=3)"
   ]
  },
  {
   "cell_type": "code",
   "execution_count": 17,
   "id": "446acc02-f4e7-4f04-8c71-d9760bb1b2db",
   "metadata": {
    "scrolled": true
   },
   "outputs": [],
   "source": [
    "options = Dict(\n",
    "    total_length = '9mm',\n",
    "    hfss_wire_bonds = True,\n",
    "    pin_inputs = Dict(\n",
    "        start_pin = Dict(\n",
    "            component = 'Q1',\n",
    "            pin = 'a'\n",
    "        ),\n",
    "        end_pin = Dict(\n",
    "            component = 'Q3',\n",
    "            pin=  'b'\n",
    "        )\n",
    "    ),\n",
    "    #anchors = anchors,\n",
    "    #between_anchors = bw_anchors,\n",
    "    advanced = Dict(avoid_collision = 'true'),\n",
    "    lead = Dict(\n",
    "        start_straight = '0.09mm',\n",
    "        end_straight = '0.09mm',\n",
    "        #start_jogged_extension = jogsS,\n",
    "        #end_jogged_extension = jogsE\n",
    "    ),\n",
    "    meander = Dict(\n",
    "        #spacing= '50um',\n",
    "        asymmetry = '-0.5mm'\n",
    "    ),\n",
    "    **ops\n",
    ")\n",
    "\n",
    "try:\n",
    "    cpw.delete()\n",
    "except NameError: pass\n",
    "\n",
    "cpw = RouteStraight(design, options = options)\n",
    "\n",
    "guidraw(n=3)"
   ]
  },
  {
   "cell_type": "code",
   "execution_count": 18,
   "id": "d12be305-52fc-4b7e-b7ef-15bf35405d5d",
   "metadata": {},
   "outputs": [
    {
     "data": {
      "text/plain": [
       "{'datatype': '99',\n",
       " 'buffer': '25um',\n",
       " 'cap_style': '2',\n",
       " 'join_style': '2',\n",
       " 'view_in_file': {'main': {1: True}}}"
      ]
     },
     "execution_count": 18,
     "metadata": {},
     "output_type": "execute_result"
    }
   ],
   "source": [
    "a_gds = design.renderers.gds\n",
    "a_gds.options.no_cheese"
   ]
  },
  {
   "cell_type": "code",
   "execution_count": null,
   "id": "6e4196de-6589-4d72-885a-dc02527e1690",
   "metadata": {},
   "outputs": [],
   "source": []
  }
 ],
 "metadata": {
  "kernelspec": {
   "display_name": "Python 3 (ipykernel)",
   "language": "python",
   "name": "python3"
  },
  "language_info": {
   "codemirror_mode": {
    "name": "ipython",
    "version": 3
   },
   "file_extension": ".py",
   "mimetype": "text/x-python",
   "name": "python",
   "nbconvert_exporter": "python",
   "pygments_lexer": "ipython3",
   "version": "3.10.14"
  }
 },
 "nbformat": 4,
 "nbformat_minor": 5
}
